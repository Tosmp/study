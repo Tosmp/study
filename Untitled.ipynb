{
 "cells": [
  {
   "cell_type": "markdown",
   "metadata": {},
   "source": [
    "# library\n"
   ]
  },
  {
   "cell_type": "code",
   "execution_count": 1,
   "metadata": {},
   "outputs": [],
   "source": [
    "import torch"
   ]
  },
  {
   "cell_type": "markdown",
   "metadata": {},
   "source": [
    "# Dataset&DataLoader"
   ]
  },
  {
   "cell_type": "code",
   "execution_count": 4,
   "metadata": {},
   "outputs": [
    {
     "data": {
      "text/plain": [
       "'1.5.1'"
      ]
     },
     "execution_count": 4,
     "metadata": {},
     "output_type": "execute_result"
    }
   ],
   "source": [
    "torch.__version__"
   ]
  },
  {
   "cell_type": "markdown",
   "metadata": {},
   "source": [
    "# Model&Optimizer"
   ]
  },
  {
   "cell_type": "code",
   "execution_count": 5,
   "metadata": {},
   "outputs": [
    {
     "data": {
      "text/plain": [
       "<module 'torch.cuda' from '/home/sugimoto/miniconda3/envs/psp/lib/python3.8/site-packages/torch/cuda/__init__.py'>"
      ]
     },
     "execution_count": 5,
     "metadata": {},
     "output_type": "execute_result"
    }
   ],
   "source": [
    "torch.cuda"
   ]
  },
  {
   "cell_type": "markdown",
   "metadata": {},
   "source": [
    "# Train"
   ]
  },
  {
   "cell_type": "code",
   "execution_count": null,
   "metadata": {},
   "outputs": [],
   "source": []
  },
  {
   "cell_type": "code",
   "execution_count": null,
   "metadata": {},
   "outputs": [],
   "source": [
    "class TrainGlobalConfig:\n",
    "    fold: int = 4\n",
    "    batch_size: int = 32\n",
    "    n_epochs: int = 40\n",
    "    lr: float = 0.01\n",
    "\n",
    "    img_size = DefaultConfig.img_size\n",
    "        \n",
    "    w_folder = 'weights/'\n",
    "    l_folder = 'logs/'\n",
    "    \n",
    "    f_name = 'effb2_epo40_lr1e-2'\n",
    "    \n",
    "    weight_path = w_folder + f_name \n",
    "    log_path = l_folder + f_name \n",
    "    # -------------------\n",
    "    verbose = True\n",
    "    verbose_step = 1"
   ]
  },
  {
   "cell_type": "code",
   "execution_count": null,
   "metadata": {},
   "outputs": [],
   "source": [
    "def get_opt_and_scheduler(model, loader, Adam=False):\n",
    "    if Adam:\n",
    "        optimizer = torch.optim.Adam(model.parameters(), **Adam_config)\n",
    "    else:\n",
    "        optimizer = torch.optim.SGD(model.parameters(), **SGD_config)\n",
    "    SchedulerClass = torch.optim.lr_scheduler.OneCycleLR\n",
    "    scheduler_params = dict(\n",
    "        max_lr=TrainGlobalConfig.lr,\n",
    "        epochs=TrainGlobalConfig.n_epochs,\n",
    "        steps_per_epoch=int(len(loader)),\n",
    "        pct_start=0.1,\n",
    "        anneal_strategy='cos', \n",
    "        final_div_factor=10**5\n",
    "    )\n",
    "    return optimizer, SchedulerClass(optimizer, **scheduler_params)\n",
    "\n",
    "\n",
    "def run_training(fold=0):\n",
    "    train_dataset = get_train_dataset(fold_number=fold)\n",
    "    train_data_loader = get_train_data_loader(\n",
    "        train_dataset,\n",
    "        batch_size=TrainGlobalConfig.batch_size\n",
    "    )\n",
    "    optimizer, scheduler = get_opt_and_scheduler(model, train_data_loader)\n",
    "    \n",
    "    validation_dataset = get_validation_dataset(fold_number=fold)\n",
    "    validation_data_loader = get_validation_data_loader(\n",
    "        validation_dataset, \n",
    "        batch_size=TrainGlobalConfig.batch_size\n",
    "    )\n",
    "    config = TrainGlobalConfig\n",
    "    config.fold = fold\n",
    "    print(config.fold)\n",
    "    fitter = Fitter(model=model, optimizer=optimizer, scheduler=scheduler, device=device, config=config)\n",
    "    fitter.fit(train_data_loader, validation_data_loader)"
   ]
  },
  {
   "cell_type": "code",
   "execution_count": null,
   "metadata": {},
   "outputs": [],
   "source": []
  }
 ],
 "metadata": {
  "kernelspec": {
   "display_name": "Environment (conda_psp)",
   "language": "python",
   "name": "conda_psp"
  },
  "language_info": {
   "codemirror_mode": {
    "name": "ipython",
    "version": 3
   },
   "file_extension": ".py",
   "mimetype": "text/x-python",
   "name": "python",
   "nbconvert_exporter": "python",
   "pygments_lexer": "ipython3",
   "version": "3.8.5"
  }
 },
 "nbformat": 4,
 "nbformat_minor": 4
}
